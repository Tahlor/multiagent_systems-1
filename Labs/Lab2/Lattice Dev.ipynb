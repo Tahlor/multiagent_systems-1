{
 "cells": [
  {
   "cell_type": "code",
   "execution_count": 57,
   "metadata": {},
   "outputs": [
    {
     "data": {
      "image/png": "[encoded data removed]",
      "text/plain": [
       "<Figure size 432x288 with 1 Axes>"
      ]
     },
     "metadata": {},
     "output_type": "display_data"
    }
   ],
   "source": [
    "import numpy as np\n",
    "from evol_games import GamesRunner\n",
    "import matplotlib as mpl\n",
    "import matplotlib.pyplot as plt\n",
    "%matplotlib inline\n",
    "\n",
    "class lattice_gameboard:\n",
    "    def __init__(self, game=\"PD\", rows=30, columns=30, agents=(\"A1\",\"A2\",\"TFT\", \"nTFT\"), weights=None):\n",
    "        self.columns = columns\n",
    "        self.rows = rows\n",
    "        self.shape = [self.rows,self.columns]\n",
    "        self.game = game\n",
    "\n",
    "        self.paired_payoff_matrix = GamesRunner().calc_payoffs(game=self.game)\n",
    "        self.agents = agents\n",
    "        if weights is None:\n",
    "            weights = [1/len(self.agents)] * 4\n",
    "        self.weights = weights\n",
    "        self.populate_lattice()\n",
    "        #print(self.agent_lattice)\n",
    "        self.draw_lattice(self.agent_lattice)\n",
    "        for i in range(0,10):\n",
    "            self.run_generation()\n",
    "        \n",
    "    def run_generation(self):\n",
    "        self.calculate_payoffs()\n",
    "        self.update_lattice()\n",
    "        self.draw_lattice(self.agent_lattice)\n",
    "\n",
    "    def populate_lattice(self):\n",
    "        \"\"\" This populates a lattice with a mix of agents\n",
    "        \"\"\"\n",
    "        #np.random.randint(0,4,[30,30])\n",
    "        self.agent_lattice = np.random.choice(a=self.agents,size=[self.rows,self.columns],p=self.weights)\n",
    "\n",
    "    def update_lattice(self):\n",
    "        \"\"\" This updates the lattice where each cell adopts the strategy of the most successful neighbor\n",
    "        \"\"\"\n",
    "        #print(np.indices(self.shape))\n",
    "        #neighbors = self.neighbor_indices(np.indices(self.shape))\n",
    "        #neighbor_agents = self.agent_lattice[neighbors[:,0], neighbors[:,1]]\n",
    "        new_lattice = self.agent_lattice.copy()\n",
    "        for i in range(0,self.rows):\n",
    "            for j in range(0, self.columns):\n",
    "                neighbors = self.neighbor_indices([i,j])\n",
    "                neighbor_idx = (neighbors[:,0], neighbors[:,1])\n",
    "                neighbor_agents = self.agent_lattice[neighbor_idx]\n",
    "                best_index = np.argmax(self.payoffs[neighbor_idx])\n",
    "                new_lattice[i,j] = neighbor_agents[best_index]\n",
    "#                 print(best_index)\n",
    "#                 print(self.payoffs[neighbor_idx])\n",
    "#                 print(neighbor_agents)\n",
    "        self.agent_lattice = new_lattice\n",
    "    \n",
    "    def neighbor_indices(self, index):\n",
    "        \"\"\" Return indices of neighbors. This includes the original cell as a \"neighbor\".\n",
    "        Assumes a square lattice\n",
    "        Args:\n",
    "            index (x,y tuple)\n",
    "        Returns:\n",
    "            list of x,y tuples for all neighbors\n",
    "        \"\"\"\n",
    "        return (np.add(cartesian_product([-1, 0, 1], [-1, 0, 1]), index )) % self.rows\n",
    "\n",
    "    def calculate_payoffs(self):\n",
    "        \"\"\" This calculates the payoffs of the lattice\n",
    "        \"\"\"\n",
    "        payoffs = np.zeros([self.rows, self.columns])\n",
    "        for i in range(0,self.rows):\n",
    "            for j in range(0, self.columns):\n",
    "                payoffs[i,j] = self.calculate_cell_payoff(i,j)\n",
    "        self.payoffs = payoffs\n",
    "\n",
    "    def calculate_cell_payoff(self,i,j):\n",
    "        \"\"\" Calculate the payoff of a cell\n",
    "        \"\"\"\n",
    "        central_agent = self.agent_lattice[i,j]\n",
    "        #print(central_agent)\n",
    "        neighbors = self.neighbor_indices([i,j])\n",
    "        neighbor_agents = self.agent_lattice[neighbors[:,0], neighbors[:,1]]\n",
    "        \n",
    "        # Remove central agent\n",
    "        neighbor_agents = np.delete(arr=neighbor_agents, obj=4, axis=0)\n",
    "\n",
    "        r = 0\n",
    "        for agent in neighbor_agents:\n",
    "            #print(agent)\n",
    "            r += self.paired_payoff_matrix[(central_agent,agent)][0]\n",
    "        return r/9\n",
    "    \n",
    "    def draw_lattice(self, lattice):\n",
    "        cmap = mpl.colors.ListedColormap(['blue','red','green', 'violet'])\n",
    "        categories, integer_encoding = np.unique(lattice, return_inverse=True)\n",
    "        integer_encoding = integer_encoding.reshape([self.rows,self.columns])\n",
    "        plt.imshow(integer_encoding, interpolation='nearest', cmap=cmap, origin='lower')\n",
    "\n",
    "    def print_summary(self):\n",
    "        pass\n",
    "    \n",
    "def cartesian_product(arr1, arr2):\n",
    "    return np.transpose([np.tile(arr1, len(arr2)), np.repeat(arr2, len(arr1))])\n",
    "\n",
    "#payoffs[('TFT', 'nTFT')]\n",
    "\n",
    "if __name__ == '__main__':\n",
    "    lg = lattice_gameboard(rows=5, columns=5)\n",
    "    gameboard = lg.agent_lattice"
   ]
  },
  {
   "cell_type": "code",
   "execution_count": 15,
   "metadata": {},
   "outputs": [
    {
     "data": {
      "text/plain": [
       "array(['nTFT'], dtype='<U4')"
      ]
     },
     "execution_count": 15,
     "metadata": {},
     "output_type": "execute_result"
    }
   ],
   "source": [
    "ind = [[2],[3]]\n",
    "gameboard[tuple(ind)]"
   ]
  },
  {
   "cell_type": "code",
   "execution_count": null,
   "metadata": {},
   "outputs": [],
   "source": []
  }
 ],
 "metadata": {
  "kernelspec": {
   "display_name": "Team",
   "language": "python",
   "name": "team"
  },
  "language_info": {
   "codemirror_mode": {
    "name": "ipython",
    "version": 3
   },
   "file_extension": ".py",
   "mimetype": "text/x-python",
   "name": "python",
   "nbconvert_exporter": "python",
   "pygments_lexer": "ipython3",
   "version": "3.6.6"
  }
 },
 "nbformat": 4,
 "nbformat_minor": 2
}
