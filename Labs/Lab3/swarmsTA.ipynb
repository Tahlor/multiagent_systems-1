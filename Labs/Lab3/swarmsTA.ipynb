{
 "cells": [
  {
   "cell_type": "code",
   "execution_count": 2,
   "metadata": {},
   "outputs": [],
   "source": [
    "import numpy as np\n",
    "import matplotlib.pyplot as plt\n",
    "import statistics\n",
    "from numpy import linalg as LA\n",
    "from scipy.spatial import distance\n",
    "import math\n",
    "\n",
    "def get_laplacians(x, n_agents, metric, rr, ra, n_neighbors):\n",
    "    A_r = np.zeros(x.shape)\n",
    "    D_r = np.zeros(x.shape)\n",
    "    A_a = np.zeros(x.shape)\n",
    "    D_a = np.zeros(x.shape)\n",
    "    \n",
    "    if metric == \"dist\":\n",
    "        for i in range(n_agents):\n",
    "            for j in range(n_agents):\n",
    "                if i == j:\n",
    "                    continue\n",
    "                dist = np.sum((x[j] - x[i]) ** 2) ** 0.5\n",
    "                if dist < rr:\n",
    "                    A_r[i, j] = 1\n",
    "                    #A_r[j, i] = 1\n",
    "                    D_r[i, i] += 1\n",
    "                elif dist < ra:\n",
    "                    A_a[i, j] = 1\n",
    "                    #A_a[j, i] = 1\n",
    "                    D_a[i, i] += 1\n",
    "    elif metric == \"nn\":\n",
    "        for i in range(n_agents):\n",
    "            dists = np.zeros((n_agents))\n",
    "            for j in range(n_agents):\n",
    "                if i == j:\n",
    "                    dists[j] = world_dim ** 2 + world_dim ** 2\n",
    "                else:\n",
    "                    dists[j] = np.sum((x[j] - x[i]) ** 2) ** 0.5\n",
    "            indices = np.argsort(dists)[:n_neighbors]\n",
    "            within_radius = False # nearest neighbor within radius UNK\n",
    "            #print(dists)\n",
    "            for nn in range(n_neighbors):\n",
    "                idx = indices[nn]\n",
    "                dist = dists[idx]\n",
    "                if dist < rr: # then nearest neighbor is within radius\n",
    "                    A_r[i, idx] = 1\n",
    "                    #A_r[idx, i] = 1\n",
    "                    D_r[i, i] += 1\n",
    "                    within_radius = True\n",
    "                elif not within_radius:\n",
    "                    A_a[i, idx] = 1\n",
    "                    #A_a[j, i] = 1\n",
    "                    D_a[i, i] += 1\n",
    "            if not within_radius:\n",
    "                assert D_a[i,i] == n_neighbors\n",
    "            else:\n",
    "                assert  D_a[i,i] <= n_neighbors\n",
    "                \n",
    "    return D_r, A_r, D_a, A_a\n",
    "\n",
    "def get_fiedler_ev(mtx):\n",
    "    eig_vals = LA.eigvals(mtx)\n",
    "    eig_vals = np.sort(eig_vals)\n",
    "    non_zero = eig_vals[eig_vals>1e-10]\n",
    "    if len(non_zero)==0:\n",
    "        return 0\n",
    "    else:\n",
    "        #print(non_zero[0], eig_vals[1])\n",
    "        return non_zero[0]\n",
    "\n",
    "def is_visible(x, x_angles, point_idx, nn_idx, fop):\n",
    "    # To be implemented, use point's orientation and field of perception to decide if neighbor (nn_idx) is visible\n",
    "    return True\n",
    "    \n",
    "def target_angles(x, x_angles, r_r, r_o, r_a, fop):\n",
    "    D = distance.squareform(distance.pdist(x))\n",
    "    sorted_idx = np.argsort(D, axis=1)\n",
    "    target_angles = np.copy(x_angles)\n",
    "    # Each node now has a list of its neighbors sorted by distance\n",
    "    for point_idx in range(x.shape[0]):\n",
    "        nn = 1\n",
    "        dist = 0\n",
    "        no_repulsors, orient, attractors = True,False,False\n",
    "        target_angle = np.zeros((x.shape[1]))\n",
    "        has_neighbors = False\n",
    "        # Iterate over neighbors until they are out of perception range (farther than ZOA reaches)\n",
    "        while True:\n",
    "            if nn == sorted_idx.shape[0]:\n",
    "                break\n",
    "                \n",
    "            nn_idx = sorted_idx[point_idx, nn]\n",
    "            dist = D[point_idx, nn_idx]\n",
    "            if is_visible(x, x_angles, point_idx, nn_idx, fop):\n",
    "                if dist < r_r:\n",
    "                    no_repulsors = False\n",
    "                    target_angle -= (x[nn_idx] - x[point_idx]) / LA.norm(x[nn_idx] - x[point_idx])\n",
    "                # Neighbors in ZOO and ZOA only take effect if there is no one in the zone of repulsion\n",
    "                elif dist < r_o and no_repulsors:\n",
    "                    orient = True\n",
    "                    target_angle += x_angles[nn_idx] / LA.norm(x_angles[nn_idx])\n",
    "                elif dist < r_a and no_repulsors:\n",
    "                    attractors = True\n",
    "                    target_angle += (x[nn_idx] - x[point_idx]) / LA.norm(x[nn_idx] - x[point_idx]) \n",
    "                else: \n",
    "                    break\n",
    "                nn += 1\n",
    "            else:\n",
    "                nn += 1\n",
    "                continue\n",
    "        \n",
    "        if not no_repulsors:\n",
    "            target_angles[point_idx] = target_angle\n",
    "        elif orient and attractors:\n",
    "            # if there are neighbors in both attraction radius and orientation radius, \n",
    "            # take average between the two\n",
    "            target_angles[point_idx] = target_angle / 2\n",
    "        elif orient or attractors:\n",
    "            target_angles[point_idx] = target_angle\n",
    "\n",
    "    return target_angles\n",
    "\n",
    "def rotate(x_angles, t_angles, turning_rate, tau=.1):\n",
    "    # Turning rate: turning rate * tau (timestep) - can we scale this to be from 0 to 1?\n",
    "    tau_turning_rate = tau * turning_rate\n",
    "    \n",
    "    for i in range(x_angles.shape[0]):\n",
    "        \n",
    "        # angle from direction to target direction\n",
    "        angle = np.arccos(np.dot(x_angles[i], t_angles[i]) / \n",
    "                          (np.linalg.norm(x_angles[i]) * np.linalg.norm(t_angles[i])))\n",
    "        if angle < tau_turning_rate:\n",
    "            x_angles[i] = t_angles[i]\n",
    "        elif angle >= tau_turning_rate:\n",
    "            # Turn in direction of target_angle\n",
    "            convex_rate = tau_turning_rate/abs(angle) # always between 0 and 1\n",
    "            # Take a weighted average\n",
    "            x_angles[i] = x_angles[i] * (1-convex_rate) + target_angles[i] * (convex_rate)\n",
    "    return x_angles\n",
    "\n",
    "def move_agents(x, x_angles, velocity):\n",
    "    x += x_angles * velocity\n",
    "    return x\n",
    "                                     \n",
    "\n",
    "    \n",
    "    "
   ]
  },
  {
   "cell_type": "code",
   "execution_count": 6,
   "metadata": {},
   "outputs": [
    {
     "name": "stderr",
     "output_type": "stream",
     "text": [
      "C:\\Users\\Taylor\\AppData\\Local\\conda\\conda\\envs\\Team\\lib\\site-packages\\matplotlib\\figure.py:457: UserWarning: matplotlib is currently using a non-GUI backend, so cannot show the figure\n",
      "  \"matplotlib is currently using a non-GUI backend, \"\n"
     ]
    },
    {
     "ename": "TypeError",
     "evalue": "'function' object is not subscriptable",
     "output_type": "error",
     "traceback": [
      "\u001b[1;31m---------------------------------------------------------------------------\u001b[0m",
      "\u001b[1;31mTypeError\u001b[0m                                 Traceback (most recent call last)",
      "\u001b[1;32m<ipython-input-6-812e234fe94c>\u001b[0m in \u001b[0;36m<module>\u001b[1;34m()\u001b[0m\n\u001b[0;32m     44\u001b[0m     \u001b[0mt_angles\u001b[0m \u001b[1;33m=\u001b[0m \u001b[0mtarget_angles\u001b[0m\u001b[1;33m(\u001b[0m\u001b[0mx\u001b[0m\u001b[1;33m,\u001b[0m \u001b[0mx_angles\u001b[0m\u001b[1;33m,\u001b[0m \u001b[0mr_r\u001b[0m\u001b[1;33m,\u001b[0m \u001b[0mr_o\u001b[0m\u001b[1;33m,\u001b[0m \u001b[0mr_a\u001b[0m\u001b[1;33m,\u001b[0m \u001b[0mfop\u001b[0m\u001b[1;33m)\u001b[0m\u001b[1;33m\u001b[0m\u001b[0m\n\u001b[0;32m     45\u001b[0m     \u001b[0mt_angles\u001b[0m \u001b[1;33m=\u001b[0m \u001b[0mt_angles\u001b[0m \u001b[1;33m/\u001b[0m \u001b[0mLA\u001b[0m\u001b[1;33m.\u001b[0m\u001b[0mnorm\u001b[0m\u001b[1;33m(\u001b[0m\u001b[0mt_angles\u001b[0m\u001b[1;33m,\u001b[0m \u001b[0maxis\u001b[0m\u001b[1;33m=\u001b[0m\u001b[1;36m1\u001b[0m\u001b[1;33m)\u001b[0m\u001b[1;33m[\u001b[0m\u001b[1;33m:\u001b[0m\u001b[1;33m,\u001b[0m\u001b[1;32mNone\u001b[0m\u001b[1;33m]\u001b[0m\u001b[1;33m\u001b[0m\u001b[0m\n\u001b[1;32m---> 46\u001b[1;33m     \u001b[0mx_angles\u001b[0m \u001b[1;33m=\u001b[0m \u001b[0mrotate\u001b[0m\u001b[1;33m(\u001b[0m\u001b[0mx_angles\u001b[0m\u001b[1;33m,\u001b[0m \u001b[0mt_angles\u001b[0m\u001b[1;33m,\u001b[0m \u001b[0mturning_rate\u001b[0m\u001b[1;33m)\u001b[0m\u001b[1;33m\u001b[0m\u001b[0m\n\u001b[0m\u001b[0;32m     47\u001b[0m     \u001b[0mx_angles\u001b[0m \u001b[1;33m=\u001b[0m \u001b[0mx_angles\u001b[0m \u001b[1;33m/\u001b[0m \u001b[0mLA\u001b[0m\u001b[1;33m.\u001b[0m\u001b[0mnorm\u001b[0m\u001b[1;33m(\u001b[0m\u001b[0mx_angles\u001b[0m\u001b[1;33m,\u001b[0m \u001b[0maxis\u001b[0m\u001b[1;33m=\u001b[0m\u001b[1;36m1\u001b[0m\u001b[1;33m)\u001b[0m\u001b[1;33m[\u001b[0m\u001b[1;33m:\u001b[0m\u001b[1;33m,\u001b[0m\u001b[1;32mNone\u001b[0m\u001b[1;33m]\u001b[0m\u001b[1;33m\u001b[0m\u001b[0m\n\u001b[0;32m     48\u001b[0m     \u001b[0mx\u001b[0m \u001b[1;33m=\u001b[0m \u001b[0mmove_agents\u001b[0m\u001b[1;33m(\u001b[0m\u001b[0mx\u001b[0m\u001b[1;33m,\u001b[0m \u001b[0mx_angles\u001b[0m\u001b[1;33m,\u001b[0m \u001b[0mvelocity\u001b[0m\u001b[1;33m)\u001b[0m\u001b[1;33m\u001b[0m\u001b[0m\n",
      "\u001b[1;32m<ipython-input-2-66b86c2cbccb>\u001b[0m in \u001b[0;36mrotate\u001b[1;34m(x_angles, t_angles, turning_rate, tau)\u001b[0m\n\u001b[0;32m    132\u001b[0m             \u001b[0mconvex_rate\u001b[0m \u001b[1;33m=\u001b[0m \u001b[0mtau_turning_rate\u001b[0m\u001b[1;33m/\u001b[0m\u001b[0mabs\u001b[0m\u001b[1;33m(\u001b[0m\u001b[0mangle\u001b[0m\u001b[1;33m)\u001b[0m \u001b[1;31m# always between 0 and 1\u001b[0m\u001b[1;33m\u001b[0m\u001b[0m\n\u001b[0;32m    133\u001b[0m             \u001b[1;31m# Take a weighted average\u001b[0m\u001b[1;33m\u001b[0m\u001b[1;33m\u001b[0m\u001b[0m\n\u001b[1;32m--> 134\u001b[1;33m             \u001b[0mx_angles\u001b[0m\u001b[1;33m[\u001b[0m\u001b[0mi\u001b[0m\u001b[1;33m]\u001b[0m \u001b[1;33m=\u001b[0m \u001b[0mx_angles\u001b[0m\u001b[1;33m[\u001b[0m\u001b[0mi\u001b[0m\u001b[1;33m]\u001b[0m \u001b[1;33m*\u001b[0m \u001b[1;33m(\u001b[0m\u001b[1;36m1\u001b[0m\u001b[1;33m-\u001b[0m\u001b[0mconvex_rate\u001b[0m\u001b[1;33m)\u001b[0m \u001b[1;33m+\u001b[0m \u001b[0mtarget_angles\u001b[0m\u001b[1;33m[\u001b[0m\u001b[0mi\u001b[0m\u001b[1;33m]\u001b[0m \u001b[1;33m*\u001b[0m \u001b[1;33m(\u001b[0m\u001b[0mconvex_rate\u001b[0m\u001b[1;33m)\u001b[0m\u001b[1;33m\u001b[0m\u001b[0m\n\u001b[0m\u001b[0;32m    135\u001b[0m     \u001b[1;32mreturn\u001b[0m \u001b[0mx_angles\u001b[0m\u001b[1;33m\u001b[0m\u001b[0m\n\u001b[0;32m    136\u001b[0m \u001b[1;33m\u001b[0m\u001b[0m\n",
      "\u001b[1;31mTypeError\u001b[0m: 'function' object is not subscriptable"
     ]
    },
    {
     "data": {
      "image/png": "[encoded data removed]",
      "text/plain": [
       "<Figure size 432x288 with 1 Axes>"
      ]
     },
     "metadata": {},
     "output_type": "display_data"
    }
   ],
   "source": [
    "%matplotlib inline\n",
    "\n",
    "n_agents = 50\n",
    "world_dim = 100\n",
    "M = world_dim / 4\n",
    "n_neighbors = 5\n",
    "metric = \"nn\" # \"dist\",\"nn\"\n",
    "n_timesteps = 100\n",
    "turning_rate = (100 / 360) * 2 * math.pi # 100 degrees to radians. Is tune-able\n",
    "x = 2 * M * (np.random.random((n_agents, 2)) - 0.5)\n",
    "x_angles = np.random.random((n_agents, 2))\n",
    "x_angles = x_angles / LA.norm(x_angles, axis=1)[:,None] # direction vectors are unit vectors\n",
    "fop = 2 * math.pi\n",
    "velocity = 1\n",
    "\n",
    "r_r = 1\n",
    "r_o = r_r * 15\n",
    "r_a = r_r * 16\n",
    "\n",
    "plot = True\n",
    "fiedler_r = []\n",
    "avg_deg_r = []\n",
    "fiedler_a = []\n",
    "avg_deg_a = []\n",
    "\n",
    "if plot:\n",
    "    fig = plt.figure()\n",
    "    ax = fig.add_subplot(111)\n",
    "    plt.ion()\n",
    "    fig.show()\n",
    "    \n",
    "#target_angles(x, x_angles, r_r, r_o, r_a, fop)\n",
    "\n",
    "for step in range(n_timesteps):\n",
    "    ax.clear()\n",
    "    ax.scatter(x[:,0], x[:,1])\n",
    "    for n in range(n_agents):\n",
    "        ax.arrow(x[n,0],x[n,1],x_angles[n,0],x_angles[n,1], width=.25)\n",
    "    ax.set_xlim((-world_dim / 2,world_dim / 2))\n",
    "    ax.set_ylim((-world_dim / 2,world_dim / 2))\n",
    "    fig.canvas.draw()\n",
    "\n",
    "    #D_r, A_r, D_a, A_a = get_laplacians(x, n_agents, metric, r_r, r_a, n_neighbors)\n",
    "    t_angles = target_angles(x, x_angles, r_r, r_o, r_a, fop)\n",
    "    t_angles = t_angles / LA.norm(t_angles, axis=1)[:,None]\n",
    "    x_angles = rotate(x_angles, t_angles, turning_rate)\n",
    "    x_angles = x_angles / LA.norm(x_angles, axis=1)[:,None]\n",
    "    x = move_agents(x, x_angles, velocity)\n",
    "    \n",
    "    #fiedler_r.append(get_fiedler_ev(L_r))\n",
    "    #fiedler_a.append(get_fiedler_ev(L_a))\n",
    "    #avg_deg_r.append(np.mean(D_r.diagonal()))\n",
    "    #avg_deg_a.append(np.mean(D_a.diagonal()))\n",
    "    \n",
    "    plt.pause(.25)\n",
    "        \n",
    "print(\"Done\")\n"
   ]
  },
  {
   "cell_type": "code",
   "execution_count": 4,
   "metadata": {},
   "outputs": [
    {
     "data": {
      "text/plain": [
       "Text(0,0.5,'Avg Degree of D_a')"
      ]
     },
     "execution_count": 4,
     "metadata": {},
     "output_type": "execute_result"
    },
    {
     "data": {
      "image/png": "[encoded data removed]",
      "text/plain": [
       "<Figure size 432x288 with 1 Axes>"
      ]
     },
     "metadata": {},
     "output_type": "display_data"
    },
    {
     "data": {
      "image/png": "[encoded data removed]",
      "text/plain": [
       "<Figure size 432x288 with 1 Axes>"
      ]
     },
     "metadata": {},
     "output_type": "display_data"
    },
    {
     "data": {
      "image/png": "[encoded data removed]",
      "text/plain": [
       "<Figure size 432x288 with 1 Axes>"
      ]
     },
     "metadata": {},
     "output_type": "display_data"
    },
    {
     "data": {
      "image/png": "[encoded data removed]",
      "text/plain": [
       "<Figure size 432x288 with 1 Axes>"
      ]
     },
     "metadata": {},
     "output_type": "display_data"
    }
   ],
   "source": [
    "%matplotlib inline\n",
    "\n",
    "fig = plt.figure()\n",
    "ax = fig.add_subplot(2,2,1)\n",
    "ax.plot(fiedler_r)\n",
    "ax.set_title(\"Fiedler EV of Repulsion Laplacian\")\n",
    "ax.set_xlabel(\"Timestep\")\n",
    "ax.set_ylabel(\"Fiedler EV of L_r\")\n",
    "\n",
    "fig = plt.figure()\n",
    "ax = fig.add_subplot(2,2,2)\n",
    "ax.plot(fiedler_a)\n",
    "ax.set_title(\"Fiedler EV of Attraction Laplacian\")\n",
    "ax.set_xlabel(\"Timestep\")\n",
    "ax.set_ylabel(\"Fiedler EV of L_a\")\n",
    "\n",
    "fig = plt.figure()\n",
    "ax = fig.add_subplot(2,2,3)\n",
    "ax.plot(avg_deg_r)\n",
    "ax.set_title(\"Average Degree of Repulsion Matrix\")\n",
    "ax.set_xlabel(\"Timestep\")\n",
    "ax.set_ylabel(\"Avg Degree of D_r\")\n",
    "\n",
    "fig = plt.figure()\n",
    "ax = fig.add_subplot(2,2,4)\n",
    "ax.plot(avg_deg_a)\n",
    "ax.set_title(\"Average Degree of Attraction Matrix\")\n",
    "ax.set_xlabel(\"Timestep\")\n",
    "ax.set_ylabel(\"Avg Degree of D_a\")"
   ]
  },
  {
   "cell_type": "code",
   "execution_count": null,
   "metadata": {
    "collapsed": true
   },
   "outputs": [],
   "source": []
  }
 ],
 "metadata": {
  "anaconda-cloud": {},
  "kernelspec": {
   "display_name": "Team",
   "language": "python",
   "name": "team"
  },
  "language_info": {
   "codemirror_mode": {
    "name": "ipython",
    "version": 3
   },
   "file_extension": ".py",
   "mimetype": "text/x-python",
   "name": "python",
   "nbconvert_exporter": "python",
   "pygments_lexer": "ipython3",
   "version": "3.6.6"
  }
 },
 "nbformat": 4,
 "nbformat_minor": 2
}
