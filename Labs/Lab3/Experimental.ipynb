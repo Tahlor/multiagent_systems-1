{
 "cells": [
  {
   "cell_type": "code",
   "execution_count": 5,
   "metadata": {},
   "outputs": [
    {
     "data": {
      "text/plain": [
       "[(1, 2), (1, 3), (2, 3)]"
      ]
     },
     "execution_count": 5,
     "metadata": {},
     "output_type": "execute_result"
    }
   ],
   "source": [
    "import numpy as np\n",
    "import itertools\n",
    "from numpy import linalg as LA\n",
    "\n",
    "def cartesian(x,y):\n",
    "    return np.transpose([np.tile(x, len(y)), np.repeat(y, len(x))])\n",
    "    \n",
    "x = np.asarray([1,2,3])\n",
    "cartesian(x,x)\n",
    "\n",
    "def permutations(x):\n",
    "    return list(itertools.combinations(x, 2))\n",
    "\n",
    "permutations(x)"
   ]
  },
  {
   "cell_type": "code",
   "execution_count": 6,
   "metadata": {},
   "outputs": [
    {
     "name": "stdout",
     "output_type": "stream",
     "text": [
      "[1 2 3]\n"
     ]
    },
    {
     "data": {
      "text/plain": [
       "array([1, 2, 2])"
      ]
     },
     "execution_count": 6,
     "metadata": {},
     "output_type": "execute_result"
    }
   ],
   "source": [
    "print(x)\n",
    "np.minimum(x,2)\n"
   ]
  },
  {
   "cell_type": "code",
   "execution_count": 7,
   "metadata": {},
   "outputs": [
    {
     "name": "stdout",
     "output_type": "stream",
     "text": [
      "[0.4472136  0.89442719] [-0.44315465 -0.89644518]\n"
     ]
    }
   ],
   "source": [
    "x = np.asarray([1,2])\n",
    "x=x/np.linalg.norm(x)\n",
    "y=-x+.01\n",
    "y=y/np.linalg.norm(y)\n",
    "print(x,y)"
   ]
  },
  {
   "cell_type": "code",
   "execution_count": 8,
   "metadata": {},
   "outputs": [
    {
     "name": "stdout",
     "output_type": "stream",
     "text": [
      "[0.44856453 0.89375045]\n"
     ]
    }
   ],
   "source": [
    "z=y*.2+x*.8\n",
    "z=z/np.linalg.norm(z)\n",
    "print(z)"
   ]
  },
  {
   "cell_type": "code",
   "execution_count": 9,
   "metadata": {},
   "outputs": [
    {
     "name": "stdout",
     "output_type": "stream",
     "text": [
      "[0.4472136  0.89442719] [-0.44315465 -0.89644518]\n"
     ]
    }
   ],
   "source": [
    "print(x,y)"
   ]
  },
  {
   "cell_type": "code",
   "execution_count": 10,
   "metadata": {},
   "outputs": [
    {
     "data": {
      "text/plain": [
       "array([False, False])"
      ]
     },
     "execution_count": 10,
     "metadata": {},
     "output_type": "execute_result"
    }
   ],
   "source": [
    "def get_angle(vector1=None,vector2=None):\n",
    "    if vector1 is None:\n",
    "        vector1 = np.asarray([1,0])\n",
    "    sign = np.sign(np.cross(vector1, vector2))\n",
    "    angle = sign*np.arccos(np.dot(vector1, vector2) /\n",
    "                          (np.linalg.norm(vector1) * np.linalg.norm(vector2)+1e-6))\n",
    "    return angle\n",
    "\n",
    "get_angle([-1,1],[1,-1])\n",
    "np.sign([-1,1])==np.sign([1,-1])"
   ]
  },
  {
   "cell_type": "code",
   "execution_count": 11,
   "metadata": {},
   "outputs": [
    {
     "name": "stdout",
     "output_type": "stream",
     "text": [
      "[0 1]\n"
     ]
    }
   ],
   "source": [
    "basis = [1,0]\n",
    "rotation_matrix = np.asarray([[0,1],[-1,0]])\n",
    "rotated_basis = np.matmul(basis, rotation_matrix)\n",
    "print(rotated_basis)"
   ]
  },
  {
   "cell_type": "code",
   "execution_count": 12,
   "metadata": {},
   "outputs": [
    {
     "name": "stdout",
     "output_type": "stream",
     "text": [
      "[0 1] [ 1 -1] -2.3561937830863138\n",
      "Rate 0.042441330894699474\n",
      "[[ 0 -1]\n",
      " [ 1  0]]\n",
      "[-1.  0.]\n",
      "2.3561937830863138\n"
     ]
    }
   ],
   "source": [
    "import math\n",
    "def get_angle(vector1=None,vector2=None):\n",
    "    if vector1 is None:\n",
    "        vector1 = np.asarray([1,0])\n",
    "    sign = np.sign(np.cross(vector1, vector2))\n",
    "    angle = sign*np.arccos(np.dot(vector1, vector2) /\n",
    "                          (np.linalg.norm(vector1) * np.linalg.norm(vector2)+1e-6))\n",
    "    if angle==0 and (np.sign(vector1)!=np.sign(vector2)).any():\n",
    "        angle=math.pi\n",
    "    return angle\n",
    "\n",
    "def get_vector_from_angle(angle,basis=[1,0]):\n",
    "    rotation_matrix = np.asarray([[0,-1],[1,0]])\n",
    "    rotated_basis = np.matmul(rotation_matrix,basis.transpose())\n",
    "    transform=np.asarray([basis,rotated_basis]).transpose()\n",
    "    print(transform)\n",
    "    return np.matmul(transform,np.asarray([math.tan(angle),1]))\n",
    "\n",
    "x_angles = np.asarray([0,1])\n",
    "t_angles = np.asarray([1,-1])\n",
    "tau_turning_rate = .1\n",
    "angle = get_angle(x_angles,t_angles)\n",
    "print(x_angles, t_angles, angle)\n",
    "\n",
    "convex_rate = min(tau_turning_rate/abs(angle),1) # always between 0 and 1            \n",
    "print(\"Rate\",convex_rate)\n",
    "x_angles = get_vector_from_angle(convex_rate*angle*0, basis=x_angles)\n",
    "print(x_angles)\n",
    "angle = get_angle(x_angles,t_angles)\n",
    "print(angle)"
   ]
  },
  {
   "cell_type": "code",
   "execution_count": 13,
   "metadata": {},
   "outputs": [
    {
     "name": "stdout",
     "output_type": "stream",
     "text": [
      "2.3561937830863138\n",
      "-0.7853988705034795\n",
      "1.3561937830863136\n"
     ]
    }
   ],
   "source": [
    "x_angles = np.asarray([0,1])\n",
    "t_angles = np.asarray([1,-1])\n",
    "\n",
    "x_angles = np.asarray([-1,1])\n",
    "t_angles = np.asarray([1,-1])\n",
    "\n",
    "\n",
    "tau_turning_rate = 1\n",
    "\n",
    "def get_vector_from_angle(angle):\n",
    "    return np.asarray([math.tan(angle),1])\n",
    "\n",
    "old_angle =get_angle(None,x_angles)\n",
    "new_angle =get_angle(None,t_angles)\n",
    "\n",
    "angle = get_angle(x_angles,t_angles)\n",
    "\n",
    "if old_angle < -math.pi/2:\n",
    "    old_angle+=2*math.pi\n",
    "if new_angle < -math.pi/2:\n",
    "    new_angle+=2*math.pi\n",
    "\n",
    "convex_rate = min(tau_turning_rate/abs(angle),1) # always between 0 and 1            \n",
    "final_angle = (convex_rate*new_angle + (1-convex_rate)*old_angle)\n",
    "x_angles=get_vector_from_angle(final_angle)\n",
    "print(old_angle)\n",
    "print(new_angle)\n",
    "print(final_angle)\n",
    "#print(convex_rate, angle)\n",
    "assert(old_angle-new_angle)<=math.pi\n",
    "\n",
    "\n"
   ]
  },
  {
   "cell_type": "code",
   "execution_count": 14,
   "metadata": {},
   "outputs": [
    {
     "name": "stdout",
     "output_type": "stream",
     "text": [
      "0.7853988705034795 -2.3561937830863138\n"
     ]
    }
   ],
   "source": [
    "m = get_angle([1,0], [1,1])\n",
    "n = get_angle([1,0], [-1,-1])\n",
    "print(m,n)"
   ]
  },
  {
   "cell_type": "code",
   "execution_count": 15,
   "metadata": {},
   "outputs": [
    {
     "data": {
      "text/plain": [
       "array([1.02963856, 1.        ])"
      ]
     },
     "execution_count": 15,
     "metadata": {},
     "output_type": "execute_result"
    }
   ],
   "source": [
    "get_vector_from_angle(.8)"
   ]
  },
  {
   "cell_type": "code",
   "execution_count": 50,
   "metadata": {},
   "outputs": [
    {
     "name": "stdout",
     "output_type": "stream",
     "text": [
      "Current trajectory [[1. 0.]]\n",
      "Angle 2.3561937830863138\n",
      "Current Angle 0.0\n",
      "T 0.5\n",
      "C 0.21220665447349737\n",
      "Current trajectory [[0.87758256 0.47942554]]\n",
      "Angle 1.8561942827217164\n",
      "Current Angle 0.5000018304828242\n",
      "T 1.0000018304828242\n",
      "C 0.2693683547321651\n",
      "Current trajectory [[0.54030077 0.84147197]]\n",
      "Angle 1.3561928138304145\n",
      "Current Angle 1.0000024725720804\n",
      "T 1.5000024725720804\n",
      "C 0.368679139795621\n",
      "Current trajectory [[0.07073474 0.99749516]]\n",
      "Angle 0.8561926310817919\n",
      "Current Angle 1.5000025434843687\n",
      "T 2.000002543484369\n",
      "C 0.583980732663226\n",
      "Current trajectory [[-0.41614915  0.90929637]]\n",
      "Current trajectory [[-1.  1.]]\n",
      "Current trajectory [[-1.  1.]]\n",
      "Current trajectory [[-1.  1.]]\n"
     ]
    }
   ],
   "source": [
    "def get_angle(vector1=None,vector2=None):\n",
    "    if vector1 is None:\n",
    "        vector1 = np.asarray([1,0])\n",
    "    sign = np.sign(np.cross(vector1, vector2))\n",
    "    angle = sign*np.arccos(np.dot(vector1, vector2) /\n",
    "                          (np.linalg.norm(vector1) * np.linalg.norm(vector2)+1e-6))\n",
    "    if angle==0 and (np.sign(vector1)!=np.sign(vector2)).any():\n",
    "        angle=math.pi\n",
    "    return angle\n",
    "\n",
    "def unit_vector(vector):\n",
    "    return vector/LA.norm(vector)\n",
    "\n",
    "def rotate(x_angles, t_angles, turning_rate, tau=.1):\n",
    "    # Turning rate: turning rate * tau (timestep) - can we scale this to be from 0 to 1?\n",
    "    tau_turning_rate = tau * turning_rate\n",
    "\n",
    "    for i in range(x_angles.shape[0]):\n",
    "\n",
    "        # angle from direction to target direction -pi to pi\n",
    "        angle = get_angle(x_angles[i], t_angles[i])\n",
    "\n",
    "        # if vectors are completely opposite\n",
    "        if abs(angle)<1e-6 and (np.sign(x_angles[i]) != np.sign(t_angles[i])).any():\n",
    "            angle=math.pi\n",
    "\n",
    "        if abs(angle) <= tau_turning_rate:\n",
    "            x_angles[i] = t_angles[i]\n",
    "        elif abs(angle) > tau_turning_rate:\n",
    "            old_angle =get_angle(None,x_angles[i])\n",
    "            print(\"Angle\", angle)\n",
    "            c = min(1,tau_turning_rate/abs(angle))\n",
    "            t = old_angle+angle*c\n",
    "            print(\"Current Angle\",old_angle)\n",
    "            print(\"T\",t)\n",
    "            print(\"C\",c)\n",
    "            new_vector = math.cos(t), math.sin(t)\n",
    "            x_angles[i]=new_vector\n",
    "            #print(\"UGH\",x_angles[i], new_vector)\n",
    "\n",
    "    return x_angles\n",
    "\n",
    "x = [1.0,0]\n",
    "t = [-1.0,1]\n",
    "x_angles=np.asarray([x])\n",
    "t_angles=[t]\n",
    "for i in range(0,8):\n",
    "    print(\"Current trajectory\",x_angles)\n",
    "    x_angles = rotate(x_angles, t_angles, turning_rate=5)"
   ]
  },
  {
   "cell_type": "code",
   "execution_count": null,
   "metadata": {},
   "outputs": [],
   "source": [
    "\n",
    "def get_angle(vector1=None,vector2=None):\n",
    "    if vector1 is None:\n",
    "        vector1 = np.asarray([1,0])\n",
    "    sign = np.sign(np.cross(vector1, vector2))\n",
    "    angle = sign*np.arccos(np.dot(vector1, vector2) /\n",
    "                          (np.linalg.norm(vector1) * np.linalg.norm(vector2)+1e-6))\n",
    "    if angle==0 and (np.sign(vector1)!=np.sign(vector2)).any():\n",
    "        angle=math.pi\n",
    "    return angle\n",
    "\n",
    "def unit_vector(vector):\n",
    "    return vector/LA.norm(vector)\n",
    "\n",
    "def rotate(x_angles, t_angles, turning_rate, tau=.1):\n",
    "    # Turning rate: turning rate * tau (timestep) - can we scale this to be from 0 to 1?\n",
    "    tau_turning_rate = tau * turning_rate\n",
    "\n",
    "    for i in range(x_angles.shape[0]):\n",
    "\n",
    "        # angle from direction to target direction -pi to pi\n",
    "        angle = get_angle(x_angles[i], t_angles[i])\n",
    "\n",
    "        # if vectors are completely opposite\n",
    "        if abs(angle)<1e-6 and (np.sign(x_angles[i]) != np.sign(t_angles[i])).any():\n",
    "            angle=math.pi\n",
    "\n",
    "        if abs(angle) <= tau_turning_rate:\n",
    "            x_angles[i] = t_angles[i]\n",
    "        elif abs(angle) > tau_turning_rate:\n",
    "            old_angle =get_angle(None,x_angles[i])\n",
    "            c = min(1,tau_turning_rate/abs(angle))\n",
    "            t = old_angle+angle*c\n",
    "            new_vector = math.cos(t), math.sin(t)\n",
    "            x_angles[i]=new_vector\n",
    "\n",
    "    return x_angles"
   ]
  }
 ],
 "metadata": {
  "kernelspec": {
   "display_name": "cs670",
   "language": "python",
   "name": "cs670"
  },
  "language_info": {
   "codemirror_mode": {
    "name": "ipython",
    "version": 3
   },
   "file_extension": ".py",
   "mimetype": "text/x-python",
   "name": "python",
   "nbconvert_exporter": "python",
   "pygments_lexer": "ipython3",
   "version": "3.6.6"
  }
 },
 "nbformat": 4,
 "nbformat_minor": 2
}
